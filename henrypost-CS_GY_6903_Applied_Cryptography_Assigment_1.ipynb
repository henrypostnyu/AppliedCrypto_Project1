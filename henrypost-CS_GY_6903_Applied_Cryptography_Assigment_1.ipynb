{
 "nbformat": 4,
 "nbformat_minor": 0,
 "metadata": {
  "colab": {
   "provenance": [],
   "toc_visible": true
  },
  "kernelspec": {
   "name": "python3",
   "display_name": "Python 3"
  },
  "language_info": {
   "name": "python"
  }
 },
 "cells": [
  {
   "cell_type": "markdown",
   "source": [
    "# Assignment 1\n",
    "\n",
    "Assignment Link: https://brightspace.nyu.edu/d2l/le/lessons/405940/topics/10743319\n",
    "\n",
    "Due Oct 1\n",
    "\n",
    "Team 6\n",
    "\n",
    "- Elaine Chan ec3704@nyu.edu\n",
    "\n",
    "- Anne LaPerla ael9281@nyu.edu\n",
    "\n",
    "- Peter Reno pr2227@nyu.edu\n",
    "\n",
    "- Henry Post hp2376@nyu.edu\n",
    "\n",
    "\n",
    "\n"
   ],
   "metadata": {
    "id": "hCoTviJ3zjcT"
   }
  },
  {
   "cell_type": "markdown",
   "source": [
    "# Problem 1: Affine Cipher\n",
    "\n",
    "```\n",
    "c = (a * p + b) mod n\n",
    "p = plaintext letter\n",
    "c = ciphertext letter\n",
    "a = encryption key\n",
    "b = encryption key\n",
    "n = modulus (26 for letters in english alphabet)\n",
    "```\n"
   ],
   "metadata": {
    "id": "_GBLB7N-hdhZ"
   }
  },
  {
   "cell_type": "markdown",
   "source": [
    "\n",
    "## 1a) ✅ size of key for a fixed modular n\n",
    "\n",
    "Henry Post\n",
    "\n",
    "> What is the key size for a fixed modular `n`?\n",
    "\n",
    "We need to calculate Euler's Totient of `n` - which is `26` in this case.\n",
    "\n",
    "26 factors as the primes $\\{2,13\\}$.\n",
    "\n",
    "$$\n",
    "φ(26) = 26 * (1-\\frac{1}{2}) * (1-\\frac{1}{13})\n",
    "$$\n",
    "\n",
    "$$\n",
    "φ(26) = 26 * \\frac{1}{2} * \\frac{12}{13}\n",
    "$$\n",
    "\n",
    "$$\n",
    "=12\n",
    "$$\n",
    "\n",
    "\n",
    "\n",
    "There are `12` possible values for `a`.\n",
    "\n",
    "The key `b` can be an integer between `{0,n-1}`, so `{0,25}`, so `b=26`.\n",
    "\n",
    "The key space is just `a*b` = `12*26` = `312`\n",
    "\n",
    "$$=312$$"
   ],
   "metadata": {
    "id": "BQMO8Tc_59Nt"
   }
  },
  {
   "cell_type": "markdown",
   "source": [
    "## 1b) ✅ Affine Cipher - send a message!\n",
    "\n",
    "Henry Post\n",
    "\n",
    "> Imagine you're a cryptographer tasked with sending a secure message using the Affine Cipher. Your message consists only of capital letters, and you've decided to use the encryption formula c = 5p+9 mod 26. Your challenge is to encrypt a given plaintext, ensuring that spaces and other non-letter characters are omitted, as the domain of your cipher is limited to 26 capital letters. Write a python program to encrypt the phrase “CRYPTOISFUN”. Develop a general solution that can be applied to any plaintext using the specified Affine Cipher encryption formula. Explain your process clearly.\n",
    "\n",
    "encryption formula:\n",
    "\n",
    "$$\n",
    "c = 5p+9 \\mod 26\n",
    "$$"
   ],
   "metadata": {
    "id": "0YGXjYa08Ekz"
   }
  },
  {
   "cell_type": "code",
   "source": [
    "# Affine Cipher\n",
    "# c = 5p + 9 mod 26\n",
    "import typing\n",
    "from typing import List\n",
    "\n",
    "plaintext = 'CRYPTOISFUN'\n",
    "\n",
    "# Function to compute modular inverse of a mod m using the extended Euclidean algorithm\n",
    "def modular_inverse(a: int, m: int) -> int:\n",
    "    # Using pow(a, -1, m) to compute the modular inverse\n",
    "    # pow(a, -1, m) computes the modular inverse of a under modulo m\n",
    "    return pow(a, -1, m)\n",
    "\n",
    "\n",
    "# Encrypt one character by converting to its corresponding number and applying the Affine Cipher formula\n",
    "def encrypt_one_integer(plaintext: int) -> int:\n",
    "    return ((5 * plaintext) + 9) % 26\n",
    "\n",
    "# Decrypt one character by applying the inverse Affine Cipher formula\n",
    "def decrypt_one_integer(ciphertext: int) -> int:\n",
    "    # Modular inverse of 5 mod 26 is 21\n",
    "    a_inverse = modular_inverse(5, 26)\n",
    "    return (a_inverse * (ciphertext - 9)) % 26\n",
    "\n",
    "\n",
    "# Convert string to list of integers (A=0, B=1, ..., Z=25)\n",
    "def string_to_int_list(string: str) -> List[int]:\n",
    "    # Initialize an empty list to store the integers\n",
    "    ints = []\n",
    "\n",
    "    # Iterate over each character in the string\n",
    "    for char in string:\n",
    "        # Convert each character to its corresponding integer (A=0, ..., Z=25)\n",
    "        int_value = ord(char) - ord('A')\n",
    "        ints.append(int_value)\n",
    "\n",
    "    return ints\n",
    "\n",
    "# Convert list of integers to string (0=A, 1=B, ..., 25=Z)\n",
    "def int_list_to_string(ints: List[int]) -> str:\n",
    "    # Convert each integer back to its corresponding character\n",
    "    char_list = [chr(i + ord('A')) for i in ints]\n",
    "\n",
    "    # Join the list of characters into a single string\n",
    "    return ''.join(char_list)\n",
    "\n",
    "# Ensure string contains only uppercase ASCII characters\n",
    "def filter_uppercase_ascii(s: str) -> str:\n",
    "    # Filter out any non-uppercase ASCII characters\n",
    "    uppercase_chars = [char for char in s if char.isupper()]\n",
    "\n",
    "    # Join the list of uppercase characters into a single string\n",
    "    return ''.join(uppercase_chars)\n",
    "\n",
    "\n",
    "# Encrypt the entire plaintext using the Affine Cipher formula\n",
    "def encrypt_string(plaintext: str) -> str:\n",
    "\n",
    "    # make sure it's in uppercase\n",
    "    plaintext = plaintext.upper()\n",
    "\n",
    "    # make sure only uppercase ASCII characters are in the string\n",
    "    plaintext = filter_uppercase_ascii(plaintext)\n",
    "\n",
    "    plaintext_int_list = string_to_int_list(plaintext)  # Convert string to list of integers\n",
    "    encrypted_integers = [encrypt_one_integer(n) for n in plaintext_int_list]  # Encrypt each integer\n",
    "    return int_list_to_string(encrypted_integers)  # Convert back to letters\n",
    "\n",
    "# Decrypt the entire ciphertext using the Affine Cipher formula\n",
    "def decrypt_string(ciphertext: str) -> str:\n",
    "    # Convert the ciphertext string to a list of integers\n",
    "    encrypted_ints = string_to_int_list(ciphertext)\n",
    "    decrypted_ints = [decrypt_one_integer(c) for c in encrypted_ints]  # Decrypt each integer\n",
    "    return int_list_to_string(decrypted_ints)  # Convert back to letters\n",
    "\n",
    "# print plaintext\n",
    "print(\"plaintext:            \"+plaintext)\n",
    "\n",
    "# Test our plaintext\n",
    "encrypted_text = encrypt_string(plaintext)\n",
    "print(f\"ciphertext:           {encrypted_text}\")\n",
    "\n",
    "# Decrypt the ciphertext\n",
    "decrypted_text = decrypt_string(encrypted_text)\n",
    "print(f\"Decrypted ciphertext: {decrypted_text}\")\n"
   ],
   "metadata": {
    "colab": {
     "base_uri": "https://localhost:8080/"
    },
    "id": "WCgE3Swg-kWY",
    "outputId": "cff11485-03aa-422b-8664-daadf89e9ef4"
   },
   "execution_count": null,
   "outputs": [
    {
     "output_type": "stream",
     "name": "stdout",
     "text": [
      "plaintext:            CRYPTOISFUN\n",
      "ciphertext:           TQZGABXVIFW\n",
      "Decrypted ciphertext: CRYPTOISFUN\n"
     ]
    }
   ]
  },
  {
   "cell_type": "markdown",
   "source": [
    "## 1c) ❌ Eve interception\n",
    "\n",
    "todo"
   ],
   "metadata": {
    "id": "1hOux3kBCnJF"
   }
  },
  {
   "cell_type": "markdown",
   "source": [
    "# Problem 2: Frequency Analysis\n",
    "\n",
    "TODO\n"
   ],
   "metadata": {
    "id": "Xe_MMEfPDyYU"
   }
  },
  {
   "cell_type": "markdown",
   "source": [
    "## 2a) ❌ Size of key space\n",
    "\n",
    "TODO"
   ],
   "metadata": {
    "id": "BR3JxnZQD3gU"
   }
  },
  {
   "cell_type": "markdown",
   "source": [
    "## 2b) ❌ Decrypt with only knowledge of \"liberty\"\n",
    "\n",
    "TODO"
   ],
   "metadata": {
    "id": "F9sUbhJ4D9Gz"
   }
  },
  {
   "cell_type": "markdown",
   "source": [
    "# Problem 3: Understanding and Analyzing the Enigma Machine\n",
    "\n",
    "todo\n",
    "\n"
   ],
   "metadata": {
    "id": "EklQRiSziXHO"
   }
  },
  {
   "cell_type": "markdown",
   "source": [
    "## 3a) ❌ Key space of the enigma machine\n",
    "\n",
    "TODO\n",
    "\n",
    "- rotors\n",
    "- rotor carved notches\n",
    "- rotor starting positions\n",
    "- reflectors\n",
    "- plugboard\n",
    "- more???\n"
   ],
   "metadata": {
    "id": "eSI_1llvie-f"
   }
  },
  {
   "cell_type": "markdown",
   "source": [
    "## 3b) ❌ Explanation of enigma machine's code flow\n",
    "\n",
    "> Refer to the manual at https://py-enigma.readthedocs.io/_/downloads/en/latest/pdf/ Here is one code\n",
    "sample for enigma machine. Provide an explanation of the Enigma machine's code flow based on the\n",
    "given code using box (workflow) diagram. Just in case, you know you need to install the package using\n",
    "pip install py-enigma in term or !pip install py-enigma in jupyter notebook.\n",
    "\n",
    "TODO"
   ],
   "metadata": {
    "id": "B6ftfnnOiruv"
   }
  },
  {
   "cell_type": "code",
   "source": [
    "!pip install py-enigma\n",
    "\n",
    "from enigma.rotors.rotor import Rotor\n",
    "from enigma.plugboard import Plugboard\n",
    "from enigma.machine import EnigmaMachine\n",
    "\n",
    "rL = Rotor('my rotor1', 'EKMFLGDQVZNTOWYHXUSPAIBRCJ', ring_setting=0, stepping='Q')\n",
    "rM = Rotor('my rotor2', 'BDFHJLCPRTXVZNYEIWGAKMUSQO', ring_setting=5, stepping='V')\n",
    "rR = Rotor('my rotor3', 'ESOVPZJAYQUIRHXLNFTGKDCMWB', ring_setting=10, stepping='J')\n",
    "\n",
    "reflector = Rotor('my reflector', 'YRUHQSLDPXNGOKMIEBFZCWVJAT')\n",
    "\n",
    "pb = Plugboard.from_key_sheet('AK BZ CG DL FU HJ MX NR OY PW')\n",
    "\n",
    "machine = EnigmaMachine([rL, rM, rR], reflector, pb)\n",
    "\n",
    "machine.set_display('UPS') # set rotor positions or use its default\n",
    "\n",
    "position = machine.get_display() # read rotor position\n",
    "\n",
    "print(position)\n",
    "# Encrypt A letter\n",
    "\n",
    "# print(machine.key_press('C'))\n",
    "# Encrypt a text\n",
    "\n",
    "print(machine.process_text('Enigma machine is powerful for Q'))\n"
   ],
   "metadata": {
    "colab": {
     "base_uri": "https://localhost:8080/"
    },
    "id": "YMbunW1Di0tN",
    "outputId": "3a8a8e79-21e3-4549-c697-febab59e374e"
   },
   "execution_count": null,
   "outputs": [
    {
     "output_type": "stream",
     "name": "stdout",
     "text": [
      "Requirement already satisfied: py-enigma in /usr/local/lib/python3.10/dist-packages (0.1)\n",
      "UPS\n",
      "TTXOPNHJCINQGNOVGMGIAKVPHOZDWZAY\n"
     ]
    }
   ]
  },
  {
   "cell_type": "markdown",
   "source": [
    "## 3c) ❌ Test the code with different configurations\n",
    "\n",
    "TODO"
   ],
   "metadata": {
    "id": "GqBUbtXHjDKm"
   }
  },
  {
   "cell_type": "markdown",
   "source": [
    "## 3d) ❌ Test the code with numbers or special characters\n",
    "\n",
    "TODO\n",
    "\n"
   ],
   "metadata": {
    "id": "2BOeoAomjJ5e"
   }
  },
  {
   "cell_type": "markdown",
   "source": [
    "## 3e) ❌ Ciphertext intercepted!\n",
    "\n",
    "> The codebreakers at Bletchley Park have intercepted a ciphertext\n",
    "“WVUVJCSQBFLEJGFNIZNIGYGOCWSUVNCIIIA” which they know corresponds to the plaintext\n",
    "“ATTACKXATXXXXXXATXATLANTICXZXISLAND”. It sounds like “ATTACKxATxxxxxx\n",
    "ATLANTICxZxISLAND”. Your challenge is to determine the initial rotor display position used to\n",
    "encrypt this message programmatically. Use your code to simulate the Enigma machine and discover the\n",
    "initial settings.\n",
    "\n",
    "TODO"
   ],
   "metadata": {
    "id": "eNMyzLoqjQMW"
   }
  }
 ]
}
